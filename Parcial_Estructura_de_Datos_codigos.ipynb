{
  "nbformat": 4,
  "nbformat_minor": 0,
  "metadata": {
    "colab": {
      "provenance": [],
      "authorship_tag": "ABX9TyO2BhK1+n3lq1hihNdLp7Vo",
      "include_colab_link": true
    },
    "kernelspec": {
      "name": "python3",
      "display_name": "Python 3"
    },
    "language_info": {
      "name": "python"
    }
  },
  "cells": [
    {
      "cell_type": "markdown",
      "metadata": {
        "id": "view-in-github",
        "colab_type": "text"
      },
      "source": [
        "<a href=\"https://colab.research.google.com/github/3m4nu311341/Clase-Estructura-De-Datos/blob/main/Parcial_Estructura_de_Datos_codigos.ipynb\" target=\"_parent\"><img src=\"https://colab.research.google.com/assets/colab-badge.svg\" alt=\"Open In Colab\"/></a>"
      ]
    },
    {
      "cell_type": "code",
      "source": [
        "def ingresar_resistencias():\n",
        "    resistencias = []\n",
        "    while True:\n",
        "        entrada = input(\"Ingrese el valor de la resistencia \")\n",
        "        if entrada.lower() == 'ya':\n",
        "            break\n",
        "        try:\n",
        "            resistencia = float(entrada)\n",
        "            resistencias.append(resistencia)\n",
        "        except ValueError:\n",
        "            print(\"Por favor, ingrese un valor válido de resistencia.\")\n",
        "\n",
        "    return resistencias\n",
        "\n",
        "def calcular_resistencia_total(resistencias):\n",
        "    resistencias_serie = 0\n",
        "    resistencias_paralelo = []\n",
        "\n",
        "    for resistencia in resistencias:\n",
        "        if resistencia < 10 or 10 <= resistencia <= 100:\n",
        "            resistencias_serie += resistencia\n",
        "        elif resistencia > 100:\n",
        "            resistencias_paralelo.append(resistencia)\n",
        "\n",
        "    if resistencias_paralelo:\n",
        "        inversa_total_paralelo = sum(1/r for r in resistencias_paralelo)\n",
        "        resistencia_total_paralelo = 1 / inversa_total_paralelo\n",
        "    else:\n",
        "        resistencia_total_paralelo = 0\n",
        "\n",
        "    resistencia_total = resistencias_serie + resistencia_total_paralelo\n",
        "    return resistencia_total\n",
        "\n",
        "def calcular_resistencia_consola():\n",
        "    print(\"Calculador \")\n",
        "    resistencias = ingresar_resistencias()\n",
        "\n",
        "    if not resistencias:\n",
        "        print(\"No se ingresaron resistencias.\")\n",
        "        return\n",
        "\n",
        "    resistencia_total = calcular_resistencia_total(resistencias)\n",
        "    print(f\"La resistencia total del circuito es: {resistencia_total} ohmios.\")\n",
        "\n",
        "calcular_resistencia_consola()\n"
      ],
      "metadata": {
        "colab": {
          "base_uri": "https://localhost:8080/"
        },
        "id": "RTMNyeHPqF9c",
        "outputId": "b6f1eba8-a3f4-4411-f9a2-e8088942dfec"
      },
      "execution_count": 8,
      "outputs": [
        {
          "output_type": "stream",
          "name": "stdout",
          "text": [
            "Calculador \n",
            "Ingrese el valor de la resistencia 5\n",
            "Ingrese el valor de la resistencia 20\n",
            "Ingrese el valor de la resistencia 150\n",
            "Ingrese el valor de la resistencia 200\n",
            "Ingrese el valor de la resistencia 50\n",
            "Ingrese el valor de la resistencia ya\n",
            "La resistencia total del circuito es: 160.71 ohmios.\n"
          ]
        }
      ]
    },
    {
      "cell_type": "code",
      "source": [
        "import random\n",
        "\n",
        "numeros_pares = [2, 4, 6, 8, 10, 12, 14, 16, 18, 20, 22, 24, 26, 28, 30, 32, 34, 36]\n",
        "numeros_impares = [1, 3, 5, 7, 9, 11, 13, 15, 17, 19, 21, 23, 25, 27, 29, 31, 33, 35]\n",
        "primera_docena = [1, 2, 3, 4, 5, 6, 7, 8, 9, 10, 11, 12]\n",
        "segunda_docena = [13, 14, 15, 16, 17, 18, 19, 20, 21, 22, 23, 24]\n",
        "tercera_docena = [25, 26, 27, 28, 29, 30, 31, 32, 33, 34, 35, 36]\n",
        "\n",
        "apuesta = int(input(\"Ingresa tu número (un número entero del 0 al 36): \"))\n",
        "\n",
        "resultado = random.randint(0, 36)\n",
        "print(f\"El número es: {resultado}\")\n",
        "\n",
        "if apuesta > 36:\n",
        "    print(\"numeron no valido\")\n",
        "elif apuesta == resultado:\n",
        "    print(\" Has acertado el número exacto.\")\n",
        "elif (apuesta in numeros_pares and resultado in numeros_pares) or (apuesta in numeros_impares and resultado in numeros_impares):\n",
        "    print(\"¡Felicidades! Has acertado el grupo de números (pares o impares).\")\n",
        "elif (apuesta in primera_docena and resultado in primera_docena) or (apuesta in segunda_docena and resultado in segunda_docena) or (apuesta in tercera_docena and resultado in tercera_docena):\n",
        "    print(\"¡Felicidades! Has acertado la docena.\")\n",
        "else:\n",
        "    print(\" No has acertado.\")"
      ],
      "metadata": {
        "colab": {
          "base_uri": "https://localhost:8080/"
        },
        "id": "9fEuhFZ2GyVn",
        "outputId": "ba63283e-2c0a-475b-eff9-4793432e09f5"
      },
      "execution_count": 5,
      "outputs": [
        {
          "output_type": "stream",
          "name": "stdout",
          "text": [
            "Ingresa tu número (un número entero del 0 al 36): 5\n",
            "El número es: 24\n",
            " No has acertado.\n"
          ]
        }
      ]
    }
  ]
}