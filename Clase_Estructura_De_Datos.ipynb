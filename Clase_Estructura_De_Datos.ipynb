{
  "nbformat": 4,
  "nbformat_minor": 0,
  "metadata": {
    "colab": {
      "provenance": [],
      "authorship_tag": "ABX9TyMkbEIYueY7dSbcFInJC3WS",
      "include_colab_link": true
    },
    "kernelspec": {
      "name": "python3",
      "display_name": "Python 3"
    },
    "language_info": {
      "name": "python"
    }
  },
  "cells": [
    {
      "cell_type": "markdown",
      "metadata": {
        "id": "view-in-github",
        "colab_type": "text"
      },
      "source": [
        "<a href=\"https://colab.research.google.com/github/3m4nu311341/Clase-Estructura-De-Datos/blob/main/Clase_Estructura_De_Datos.ipynb\" target=\"_parent\"><img src=\"https://colab.research.google.com/assets/colab-badge.svg\" alt=\"Open In Colab\"/></a>"
      ]
    },
    {
      "cell_type": "markdown",
      "source": [
        "Tarea:\n",
        "1. Crear un programa que tenga clase, subclases y herencias en python de un objeto.\n"
      ],
      "metadata": {
        "id": "Bn5-q8zKeYW_"
      }
    },
    {
      "cell_type": "markdown",
      "source": [
        "Clase Estructura:(clase1)"
      ],
      "metadata": {
        "id": "HNQY8n0IeGx6"
      }
    },
    {
      "cell_type": "code",
      "source": [
        "class Animal:\n",
        "    def __init__(self, nombre, edad):\n",
        "        self.nombre = nombre\n",
        "        self.edad = edad\n",
        "\n",
        "    def hacer_sonido(self):\n",
        "        raise NotImplementedError(\"Este método debe ser implementado por las subclases\")\n",
        "\n",
        "    def descripcion(self):\n",
        "        return f\"Nombre: {self.nombre}, Edad: {self.edad} años\"\n",
        "\n",
        "class Mamifero(Animal):\n",
        "    def __init__(self, nombre, edad, tipo_pelo):\n",
        "        super().__init__(nombre, edad)\n",
        "        self.tipo_pelo = tipo_pelo\n",
        "\n",
        "    def hacer_sonido(self):\n",
        "        return \"Grrr\"\n",
        "\n",
        "    def descripcion(self):\n",
        "        return f\"Mamífero: {self.nombre}, Edad: {self.edad} años, Tipo de pelo: {self.tipo_pelo}\"\n",
        "\n",
        "class Ave(Animal):\n",
        "    def __init__(self, nombre, edad, puede_volar):\n",
        "        super().__init__(nombre, edad)\n",
        "        self.puede_volar = puede_volar\n",
        "\n",
        "    def hacer_sonido(self):\n",
        "        return \"Pío, pío\"\n",
        "\n",
        "    def descripcion(self):\n",
        "        volar = \"Sí\" if self.puede_volar else \"No\"\n",
        "        return f\"Ave: {self.nombre}, Edad: {self.edad} años, ¿Puede volar?: {volar}\"\n",
        "\n",
        "class Reptil(Animal):\n",
        "    def __init__(self, nombre, edad, es_venenoso):\n",
        "        super().__init__(nombre, edad)\n",
        "        self.es_venenoso = es_venenoso\n",
        "\n",
        "    def hacer_sonido(self):\n",
        "        return \"Ssss\"\n",
        "\n",
        "    def descripcion(self):\n",
        "        venenoso = \"Sí\" if self.es_venenoso else \"No\"\n",
        "        return f\"Reptil: {self.nombre}, Edad: {self.edad} años, ¿Es venenoso?: {venenoso}\"\n",
        "\n",
        "leon = Mamifero(\"León\", 5, \"Corto\")\n",
        "aguila = Ave(\"Águila\", 3, True)\n",
        "serpiente = Reptil(\"Serpiente\", 2, True)\n",
        "\n",
        "print(leon.descripcion())\n",
        "print(f\"Sonido: {leon.hacer_sonido()}\")\n",
        "\n",
        "print(aguila.descripcion())\n",
        "print(f\"Sonido: {aguila.hacer_sonido()}\")\n",
        "\n",
        "print(serpiente.descripcion())\n",
        "print(f\"Sonido: {serpiente.hacer_sonido()}\")"
      ],
      "metadata": {
        "colab": {
          "base_uri": "https://localhost:8080/"
        },
        "id": "06eVc_iUiHmE",
        "outputId": "270814a4-e97d-4ac0-c667-44caa2d419ed"
      },
      "execution_count": 10,
      "outputs": [
        {
          "output_type": "stream",
          "name": "stdout",
          "text": [
            "Mamífero: León, Edad: 5 años, Tipo de pelo: Corto\n",
            "Sonido: Grrr\n",
            "Ave: Águila, Edad: 3 años, ¿Puede volar?: Sí\n",
            "Sonido: Pío, pío\n",
            "Reptil: Serpiente, Edad: 2 años, ¿Es venenoso?: Sí\n",
            "Sonido: Ssss\n"
          ]
        }
      ]
    },
    {
      "cell_type": "markdown",
      "source": [
        "2.Crear un programa que permita ingresar 10 datos y sea mutable en las posiciones 2, 4 , 7 y 10 por datos que desee cambiar el usuarios desde la consola"
      ],
      "metadata": {
        "id": "_YKixtqLmEfC"
      }
    },
    {
      "cell_type": "code",
      "source": [
        "datos = []\n",
        "\n",
        "print(\"Ingrese 10 datos:\")\n",
        "\n",
        "for i in range(10):\n",
        "    dato = input(f\"Ingrese el dato {i+1}: \")\n",
        "    datos.append(dato)\n",
        "\n",
        "print(\"\\nLos datos ingresados son:\")\n",
        "for i, dato in enumerate(datos, start=1):\n",
        "    print(f\"Dato {i}: {dato}\")\n",
        "\n",
        "posiciones_a_modificar = [2, 4, 7, 10]\n",
        "\n",
        "print(\"\\nAhora puede modificar los datos en las posiciones 2, 4, 7 y 10.\")\n",
        "\n",
        "for pos in posiciones_a_modificar:\n",
        "    nuevo_dato = input(f\"Ingrese el nuevo dato para la posición {pos}: \")\n",
        "    datos[pos-1] = nuevo_dato\n",
        "\n",
        "print(\"\\nLos datos actualizados son:\")\n",
        "for i, dato in enumerate(datos, start=1):\n",
        "    print(f\"Dato {i}: {dato}\")"
      ],
      "metadata": {
        "colab": {
          "base_uri": "https://localhost:8080/"
        },
        "id": "qg7LlX8vmLkG",
        "outputId": "685d1df4-9299-48fa-bbf1-06238eb3ad5c"
      },
      "execution_count": 11,
      "outputs": [
        {
          "output_type": "stream",
          "name": "stdout",
          "text": [
            "Ingrese 10 datos:\n",
            "Ingrese el dato 1: Vaca\n",
            "Ingrese el dato 2: Leon\n",
            "Ingrese el dato 3: Gato\n",
            "Ingrese el dato 4: Perro\n",
            "Ingrese el dato 5: Conejo\n",
            "Ingrese el dato 6: Grillo\n",
            "Ingrese el dato 7: Aguila\n",
            "Ingrese el dato 8: Cocodrilo\n",
            "Ingrese el dato 9: Serpiente\n",
            "Ingrese el dato 10: Cuy\n",
            "\n",
            "Los datos ingresados son:\n",
            "Dato 1: Vaca\n",
            "Dato 2: Leon\n",
            "Dato 3: Gato\n",
            "Dato 4: Perro\n",
            "Dato 5: Conejo\n",
            "Dato 6: Grillo\n",
            "Dato 7: Aguila\n",
            "Dato 8: Cocodrilo\n",
            "Dato 9: Serpiente\n",
            "Dato 10: Cuy\n",
            "\n",
            "Ahora puede modificar los datos en las posiciones 2, 4, 7 y 10.\n",
            "Ingrese el nuevo dato para la posición 2: Tigre\n",
            "Ingrese el nuevo dato para la posición 4: Hamster\n",
            "Ingrese el nuevo dato para la posición 7: Condor\n",
            "Ingrese el nuevo dato para la posición 10: Burro\n",
            "\n",
            "Los datos actualizados son:\n",
            "Dato 1: Vaca\n",
            "Dato 2: Tigre\n",
            "Dato 3: Gato\n",
            "Dato 4: Hamster\n",
            "Dato 5: Conejo\n",
            "Dato 6: Grillo\n",
            "Dato 7: Condor\n",
            "Dato 8: Cocodrilo\n",
            "Dato 9: Serpiente\n",
            "Dato 10: Burro\n"
          ]
        }
      ]
    },
    {
      "cell_type": "markdown",
      "source": [
        "Clase 1"
      ],
      "metadata": {
        "id": "KwcaNBTHmBy6"
      }
    },
    {
      "cell_type": "code",
      "execution_count": 7,
      "metadata": {
        "id": "JzgNp3VeZ8ZF",
        "colab": {
          "base_uri": "https://localhost:8080/"
        },
        "outputId": "f404f142-2ed9-41c8-dfba-8ea055b23623"
      },
      "outputs": [
        {
          "output_type": "stream",
          "name": "stdout",
          "text": [
            "El Honda CB190 está arrancando.\n",
            "El Honda CB190 está detenido.\n",
            "El Honda CB190 tiene caballos de fuerza.\n",
            "El Chevrolet Aveo Family está arrancando.\n",
            "El Chevrolet Aveo Family está detenido.\n",
            "El Mercedes Cargalarga está arrancando.\n",
            "El Mercedes Cargalarga está detenido.\n"
          ]
        }
      ],
      "source": [
        "class Vehiculo:\n",
        "    def __init__(self, marca, modelo, year):\n",
        "        self.marca = marca\n",
        "        self.modelo = modelo\n",
        "        self.year = year\n",
        "\n",
        "    def arrancar(self):\n",
        "        return f\"El {self.marca} {self.modelo} está arrancando.\"\n",
        "\n",
        "    def detener(self):\n",
        "        return f\"El {self.marca} {self.modelo} está detenido.\"\n",
        "\n",
        "\n",
        "class Moto(Vehiculo):\n",
        "    def __init__(self, marca, modelo, year, cilindraje):\n",
        "        super().__init__(marca, modelo, year)\n",
        "        self.cilindraje = cilindraje\n",
        "\n",
        "    def caballo_de_fuerza(self):\n",
        "        return f\"El {self.marca} {self.modelo} tiene caballos de fuerza.\"\n",
        "\n",
        "\n",
        "def imprimirdatos(vehiculo):\n",
        "    print(vehiculo.arrancar())\n",
        "    print(vehiculo.detener())\n",
        "    if isinstance(vehiculo, Moto):\n",
        "        print(vehiculo.caballo_de_fuerza())\n",
        "\n",
        "\n",
        "class Camion(Vehiculo):\n",
        "    def __init__(self, marca, modelo, year, carga):\n",
        "        super().__init__(marca, modelo, year)\n",
        "        self.carga = carga\n",
        "\n",
        "    def peso(self):\n",
        "        return f\"El camión {self.marca} {self.modelo}: El peso del camión es {self.carga}\"\n",
        "\n",
        "\n",
        "\n",
        "moto1 = Moto(\"Honda\", \"CB190\", 2022, 180)\n",
        "moto2 = Moto(\"Suzuki\", \"150\", 2024, 150)\n",
        "carro = Vehiculo(\"Chevrolet\", \"Aveo Family\", 2020)\n",
        "carro2 = Vehiculo(\"BMW\", \"XM\", 1999)\n",
        "camion1 = Camion(\"Mercedes\", \"Cargalarga\", 1998, 98)\n",
        "\n",
        "\n",
        "imprimirdatos(moto1)\n",
        "imprimirdatos(carro)\n",
        "imprimirdatos(camion1)\n",
        "\n"
      ]
    },
    {
      "cell_type": "code",
      "source": [
        "array=[]\n",
        "for i in range(5):\n",
        "  dato=input(\"ingresar datos:\")\n",
        "  array.append(dato)\n",
        "print(array)"
      ],
      "metadata": {
        "colab": {
          "base_uri": "https://localhost:8080/"
        },
        "id": "W_Zho2k-g9Zp",
        "outputId": "1f3a3b9f-6920-4f8d-97f4-f40c31ecad76"
      },
      "execution_count": null,
      "outputs": [
        {
          "output_type": "stream",
          "name": "stdout",
          "text": [
            "ingresar datos:Daniel\n",
            "ingresar datos:Laura\n",
            "ingresar datos:Walter\n",
            "ingresar datos:Jesus\n",
            "ingresar datos:Juan\n",
            "['Daniel', 'Laura', 'Walter', 'Jesus', 'Juan']\n"
          ]
        }
      ]
    },
    {
      "cell_type": "code",
      "source": [
        "print(array)\n",
        "array[0]=\"Aurora\"\n",
        "print(array)"
      ],
      "metadata": {
        "colab": {
          "base_uri": "https://localhost:8080/"
        },
        "id": "cIgrgQBbhCsh",
        "outputId": "f5f63dcc-7850-48a5-d65f-52d3d378b3ca"
      },
      "execution_count": null,
      "outputs": [
        {
          "output_type": "stream",
          "name": "stdout",
          "text": [
            "['Daniel', 'Laura', 'Walter', 'Jesus', 'Juan']\n",
            "['Aurora', 'Laura', 'Walter', 'Jesus', 'Juan']\n"
          ]
        }
      ]
    },
    {
      "cell_type": "code",
      "source": [
        "lista=[1,2,3,4]\n",
        "print(lista)\n",
        "#print[lista.count(4)]cantidad de veces que se repite el 4\n",
        "#print[lista.index(4)]en que lugar aparece el 4"
      ],
      "metadata": {
        "colab": {
          "base_uri": "https://localhost:8080/"
        },
        "id": "McC11RSmhHpp",
        "outputId": "c69bb65d-86c9-4faf-db50-c60fdeaad58b"
      },
      "execution_count": null,
      "outputs": [
        {
          "output_type": "stream",
          "name": "stdout",
          "text": [
            "[1, 2, 3, 4]\n"
          ]
        }
      ]
    },
    {
      "cell_type": "code",
      "source": [
        "array=[]\n",
        "matriz=[]\n",
        "for i in range(3):\n",
        "  fila=[]\n",
        "  matriz.append(fila)\n",
        "  for j in range(3):\n",
        "    dato=input(\"ingresar datos:\")\n",
        "    fila.append(dato)\n",
        "  array.append(fila)\n",
        "\n",
        "print(array)"
      ],
      "metadata": {
        "id": "ww_HZ040h9qQ"
      },
      "execution_count": null,
      "outputs": []
    },
    {
      "cell_type": "code",
      "source": [
        "array=[]\n",
        "for i in range(2):\n",
        "  fila=[]\n",
        "  for j in range(2):\n",
        "    dato=int(input(\"ingresar datos:\"))\n",
        "    fila.append(dato)\n",
        "  array.append(fila)\n"
      ],
      "metadata": {
        "colab": {
          "base_uri": "https://localhost:8080/"
        },
        "id": "V60jVVKPh-yg",
        "outputId": "de8cf7dc-be88-439d-fbe0-fc24a20933fc"
      },
      "execution_count": null,
      "outputs": [
        {
          "name": "stdout",
          "output_type": "stream",
          "text": [
            "ingresar datos:2\n",
            "ingresar datos:2\n",
            "ingresar datos:2\n",
            "ingresar datos:2\n"
          ]
        }
      ]
    },
    {
      "cell_type": "code",
      "source": [
        "for i in range(2):\n",
        "  for j in range(2):\n",
        "    array(i)(j) + 3\n",
        "    if array(i)(j)*2=0:\n",
        "      print(\"es número par\", array(i)(j))\n",
        "\n",
        "print(array)\n"
      ],
      "metadata": {
        "colab": {
          "base_uri": "https://localhost:8080/",
          "height": 106
        },
        "id": "chPot_oni6W0",
        "outputId": "d2efdd47-a964-432c-88a9-d148d0a6d10c"
      },
      "execution_count": null,
      "outputs": [
        {
          "output_type": "error",
          "ename": "SyntaxError",
          "evalue": "cannot assign to expression here. Maybe you meant '==' instead of '='? (<ipython-input-27-8fee2a0ade3f>, line 4)",
          "traceback": [
            "\u001b[0;36m  File \u001b[0;32m\"<ipython-input-27-8fee2a0ade3f>\"\u001b[0;36m, line \u001b[0;32m4\u001b[0m\n\u001b[0;31m    if array(i)(j)*2=0:\u001b[0m\n\u001b[0m       ^\u001b[0m\n\u001b[0;31mSyntaxError\u001b[0m\u001b[0;31m:\u001b[0m cannot assign to expression here. Maybe you meant '==' instead of '='?\n"
          ]
        }
      ]
    },
    {
      "cell_type": "code",
      "source": [],
      "metadata": {
        "id": "aka8QLqinCkW"
      },
      "execution_count": null,
      "outputs": []
    }
  ]
}