{
  "nbformat": 4,
  "nbformat_minor": 0,
  "metadata": {
    "colab": {
      "provenance": [],
      "authorship_tag": "ABX9TyOkHVvq2+bAZlX2wg7PBH9b",
      "include_colab_link": true
    },
    "kernelspec": {
      "name": "python3",
      "display_name": "Python 3"
    },
    "language_info": {
      "name": "python"
    }
  },
  "cells": [
    {
      "cell_type": "markdown",
      "metadata": {
        "id": "view-in-github",
        "colab_type": "text"
      },
      "source": [
        "<a href=\"https://colab.research.google.com/github/3m4nu311341/Clase-Estructura-De-Datos/blob/main/Parcial_Estructura_de_Datos.ipynb\" target=\"_parent\"><img src=\"https://colab.research.google.com/assets/colab-badge.svg\" alt=\"Open In Colab\"/></a>"
      ]
    },
    {
      "cell_type": "code",
      "source": [
        "def ingresar_resistencias():\n",
        "    resistencias = []\n",
        "    while True:\n",
        "        entrada = input(\"Ingrese el valor de la resistencia (o 'fin' para terminar): \")\n",
        "        if entrada.lower() == 'fin':\n",
        "            break\n",
        "        try:\n",
        "            resistencia = float(entrada)\n",
        "            resistencias.append(resistencia)\n",
        "        except ValueError:\n",
        "            print(\"Por favor, ingrese un valor válido de resistencia.\")\n",
        "\n",
        "    return resistencias\n",
        "\n",
        "def calcular_resistencia_total(resistencias):\n",
        "    resistencias_serie = 0\n",
        "    resistencias_paralelo = []\n",
        "\n",
        "    for resistencia in resistencias:\n",
        "        if resistencia < 10 or 10 <= resistencia <= 100:\n",
        "            resistencias_serie += resistencia\n",
        "        elif resistencia > 100:\n",
        "            resistencias_paralelo.append(resistencia)\n",
        "\n",
        "    if resistencias_paralelo:\n",
        "        inversa_total_paralelo = sum(1/r for r in resistencias_paralelo)\n",
        "        resistencia_total_paralelo = 1 / inversa_total_paralelo\n",
        "    else:\n",
        "        resistencia_total_paralelo = 0\n",
        "\n",
        "    resistencia_total = resistencias_serie + resistencia_total_paralelo\n",
        "    return resistencia_total\n",
        "\n",
        "def calcular_resistencia_consola():\n",
        "    print(\"Bienvenido al calculador de resistencia total.\")\n",
        "    resistencias = ingresar_resistencias()\n",
        "\n",
        "    if not resistencias:\n",
        "        print(\"No se ingresaron resistencias.\")\n",
        "        return\n",
        "\n",
        "    resistencia_total = calcular_resistencia_total(resistencias)\n",
        "    print(f\"La resistencia total del circuito es: {resistencia_total} ohmios.\")\n",
        "\n",
        "calcular_resistencia_consola()\n"
      ],
      "metadata": {
        "colab": {
          "base_uri": "https://localhost:8080/"
        },
        "id": "RTMNyeHPqF9c",
        "outputId": "d56bb21a-2386-439d-cf8d-ec12cb0cc207"
      },
      "execution_count": 6,
      "outputs": [
        {
          "output_type": "stream",
          "name": "stdout",
          "text": [
            "Bienvenido al calculador de resistencia total.\n",
            "Ingrese el valor de la resistencia (o 'fin' para terminar): 650\n",
            "Ingrese el valor de la resistencia (o 'fin' para terminar): 30\n",
            "Ingrese el valor de la resistencia (o 'fin' para terminar): 165\n",
            "Ingrese el valor de la resistencia (o 'fin' para terminar): fin\n",
            "La resistencia total del circuito es: 161.5950920245399 ohmios.\n"
          ]
        }
      ]
    },
    {
      "cell_type": "code",
      "source": [
        "import random\n",
        "\n",
        "numeros_pares = [2, 4, 6, 8, 10, 12, 14, 16, 18, 20, 22, 24, 26, 28, 30, 32, 34, 36]\n",
        "numeros_impares = [1, 3, 5, 7, 9, 11, 13, 15, 17, 19, 21, 23, 25, 27, 29, 31, 33, 35]\n",
        "primera_docena = list(range(1, 13))\n",
        "segunda_docena = list(range(13, 25))\n",
        "tercera_docena = list(range(25, 37))\n",
        "\n",
        "def simular_ruleta():\n",
        "\n",
        "    while True:\n",
        "        try:\n",
        "            apuesta_usuario = int(input(\"Ingrese un número para su apuesta (0-36): \"))\n",
        "            if 0 <= apuesta_usuario <= 36:\n",
        "                break\n",
        "            else:\n",
        "                print(\"Por favor, ingrese un número válido entre 0 y 36.\")\n",
        "        except ValueError:\n",
        "            print(\"Entrada no válida, por favor ingrese un número.\")\n",
        "\n",
        "    resultado_ruleta = random.randint(0, 36)\n",
        "    print(f\"\\nResultado de la ruleta: {resultado_ruleta}\")\n",
        "\n",
        "\n",
        "    if resultado_ruleta == apuesta_usuario:\n",
        "        print(\"¡Felicidades! Has acertado el número exacto.\")\n",
        "    else:\n",
        "        print(\"Lo siento, no has acertado el número exacto.\")\n",
        "        if resultado_ruleta in numeros_pares and apuesta_usuario in numeros_pares:\n",
        "            print(\"Has acertado el grupo de números pares.\")\n",
        "        elif resultado_ruleta in numeros_impares and apuesta_usuario in numeros_impares:\n",
        "            print(\"Has acertado el grupo de números impares.\")\n",
        "        if resultado_ruleta in primera_docena and apuesta_usuario in primera_docena:\n",
        "            print(\"Has acertado la primera docena.\")\n",
        "        elif resultado_ruleta in segunda_docena and apuesta_usuario in segunda_docena:\n",
        "            print(\"Has acertado la segunda docena.\")\n",
        "        elif resultado_ruleta in tercera_docena and apuesta_usuario in tercera_docena:\n",
        "            print(\"Has acertado la tercera docena.\")\n",
        "\n",
        "simular_ruleta()\n"
      ],
      "metadata": {
        "colab": {
          "base_uri": "https://localhost:8080/"
        },
        "id": "9fEuhFZ2GyVn",
        "outputId": "cb16f27e-c755-4e2c-c312-923a0ead0013"
      },
      "execution_count": 13,
      "outputs": [
        {
          "output_type": "stream",
          "name": "stdout",
          "text": [
            "Ingrese un número para su apuesta (0-36): 15\n",
            "\n",
            "Resultado de la ruleta: 5\n",
            "Lo siento, no has acertado el número exacto.\n",
            "Has acertado el grupo de números impares.\n"
          ]
        }
      ]
    }
  ]
}