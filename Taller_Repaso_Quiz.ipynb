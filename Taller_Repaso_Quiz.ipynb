{
  "nbformat": 4,
  "nbformat_minor": 0,
  "metadata": {
    "colab": {
      "provenance": [],
      "authorship_tag": "ABX9TyOplyr5uKFSK7XP64vDUOrz",
      "include_colab_link": true
    },
    "kernelspec": {
      "name": "python3",
      "display_name": "Python 3"
    },
    "language_info": {
      "name": "python"
    }
  },
  "cells": [
    {
      "cell_type": "markdown",
      "metadata": {
        "id": "view-in-github",
        "colab_type": "text"
      },
      "source": [
        "<a href=\"https://colab.research.google.com/github/3m4nu311341/Clase-Estructura-De-Datos/blob/main/Taller_Repaso_Quiz.ipynb\" target=\"_parent\"><img src=\"https://colab.research.google.com/assets/colab-badge.svg\" alt=\"Open In Colab\"/></a>"
      ]
    },
    {
      "cell_type": "markdown",
      "source": [
        "Taller:\n",
        "1. Dada una lista de números [100,30,20], conviértela a una tupla y luego regresa la tupla a una lista. Imprimir la lista final"
      ],
      "metadata": {
        "id": "7SUu7jyz9LS8"
      }
    },
    {
      "cell_type": "code",
      "execution_count": 4,
      "metadata": {
        "colab": {
          "base_uri": "https://localhost:8080/"
        },
        "id": "KoJsKsW38917",
        "outputId": "0407d9d4-68df-4352-aa80-07cec515c839"
      },
      "outputs": [
        {
          "output_type": "stream",
          "name": "stdout",
          "text": [
            "(100, 30, 20)\n"
          ]
        }
      ],
      "source": [
        "numeros = [100, 30, 20]\n",
        "numeros_tupla = tuple(numeros)\n",
        "print(numeros_tupla)"
      ]
    },
    {
      "cell_type": "code",
      "source": [
        "numeros_lista = list(numeros_tupla)\n",
        "print(numeros_lista)"
      ],
      "metadata": {
        "colab": {
          "base_uri": "https://localhost:8080/"
        },
        "id": "sPfSW2sl9rNz",
        "outputId": "87ad1ccf-b14f-4f38-f059-377a73851478"
      },
      "execution_count": 5,
      "outputs": [
        {
          "output_type": "stream",
          "name": "stdout",
          "text": [
            "[100, 30, 20]\n"
          ]
        }
      ]
    },
    {
      "cell_type": "markdown",
      "source": [
        "2. Dada una tupla de camisas , debe crear un diccionario de precios por cada camisa. Luego almacene las camisas y precios y condicione si la lista de precios es mayor a 100"
      ],
      "metadata": {
        "id": "pKd8n0RQ9yKB"
      }
    },
    {
      "cell_type": "code",
      "source": [
        "camisas = (\"Camisa Azul\", \"Camisa Roja\", \"Camisa Verde\",\"Camisa Amarilla\")\n",
        "\n",
        "precios_camisas = {\n",
        "    \"Camisa Azul\": 120,\n",
        "    \"Camisa Roja\": 80,\n",
        "    \"Camisa Verde\": 150,\n",
        "    \"Camisa Amarilla\": 70\n",
        "}\n",
        "for camisa, precio in precios_camisas.items():\n",
        "    if precio > 100:\n",
        "        print(f\"La {camisa} tiene un precio mayor a 100: ${precio}\")\n",
        "    else:\n",
        "        print(f\"La {camisa} tiene un precio menor o igual a 100: ${precio}\")"
      ],
      "metadata": {
        "colab": {
          "base_uri": "https://localhost:8080/"
        },
        "id": "6i6IOLYL91-5",
        "outputId": "99681874-3db4-49e5-b351-0de36fb0d1d4"
      },
      "execution_count": 7,
      "outputs": [
        {
          "output_type": "stream",
          "name": "stdout",
          "text": [
            "La Camisa Azul tiene un precio mayor a 100: $120\n",
            "La Camisa Roja tiene un precio menor o igual a 100: $80\n",
            "La Camisa Verde tiene un precio mayor a 100: $150\n",
            "La Camisa Amarilla tiene un precio menor o igual a 100: $70\n"
          ]
        }
      ]
    },
    {
      "cell_type": "markdown",
      "source": [
        "3. Dada una lista de plalabras [\"manzana\", \"banana\", \"manzana\", \"pera\" , \"banana\"], cuenta cuántas veces aparece cada palabra y almacena los resultados."
      ],
      "metadata": {
        "id": "YE9AAwHw-fJD"
      }
    },
    {
      "cell_type": "code",
      "source": [
        "palabras = [\"manzana\", \"banana\", \"manzana\", \"pera\", \"banana\"]\n",
        "\n",
        "conteo_palabras = {}\n",
        "\n",
        "for palabra in palabras:\n",
        "    if palabra in conteo_palabras:\n",
        "        conteo_palabras[palabra] += 1\n",
        "    else:\n",
        "        conteo_palabras[palabra] = 1\n",
        "\n",
        "print(conteo_palabras)"
      ],
      "metadata": {
        "colab": {
          "base_uri": "https://localhost:8080/"
        },
        "id": "i-qiows6-jMx",
        "outputId": "0f356b97-6258-427a-be31-bb78d0bdf790"
      },
      "execution_count": 8,
      "outputs": [
        {
          "output_type": "stream",
          "name": "stdout",
          "text": [
            "{'manzana': 2, 'banana': 2, 'pera': 1}\n"
          ]
        }
      ]
    },
    {
      "cell_type": "markdown",
      "source": [
        "4. Crear un programa que permita al usuario almacenar datos enteros en una matriz y esos datos se sumen y luego realice su respectivo promedio."
      ],
      "metadata": {
        "id": "rFG-1OhU-t5g"
      }
    },
    {
      "cell_type": "code",
      "source": [
        "matriz = []\n",
        "\n",
        "filas = int(input(\"Ingrese el número de filas: \"))\n",
        "columnas = int(input(\"Ingrese el número de columnas: \"))\n",
        "\n",
        "for i in range(filas):\n",
        "    fila = []\n",
        "    for j in range(columnas):\n",
        "        dato = int(input(f\"Ingrese un número entero para la posición [{i+1}, {j+1}]: \"))\n",
        "        fila.append(dato)\n",
        "    matriz.append(fila)\n",
        "\n",
        "suma_total = sum(sum(fila) for fila in matriz)\n",
        "\n",
        "num_elementos = filas * columnas\n",
        "\n",
        "promedio = suma_total / num_elementos if num_elementos > 0 else 0\n",
        "\n",
        "print(f\"Suma total de los elementos: {suma_total}\")\n",
        "print(f\"Promedio de los elementos: {promedio}\")"
      ],
      "metadata": {
        "colab": {
          "base_uri": "https://localhost:8080/"
        },
        "id": "oPQtH-rn-wVU",
        "outputId": "84bd4da2-373a-465e-c1e6-04edd275dcd0"
      },
      "execution_count": 9,
      "outputs": [
        {
          "output_type": "stream",
          "name": "stdout",
          "text": [
            "Ingrese el número de filas: 3\n",
            "Ingrese el número de columnas: 3\n",
            "Ingrese un número entero para la posición [1, 1]: 5\n",
            "Ingrese un número entero para la posición [1, 2]: 8\n",
            "Ingrese un número entero para la posición [1, 3]: 4\n",
            "Ingrese un número entero para la posición [2, 1]: 6\n",
            "Ingrese un número entero para la posición [2, 2]: 7\n",
            "Ingrese un número entero para la posición [2, 3]: 3\n",
            "Ingrese un número entero para la posición [3, 1]: 1\n",
            "Ingrese un número entero para la posición [3, 2]: 0\n",
            "Ingrese un número entero para la posición [3, 3]: 0\n",
            "Suma total de los elementos: 34\n",
            "Promedio de los elementos: 3.7777777777777777\n"
          ]
        }
      ]
    },
    {
      "cell_type": "markdown",
      "source": [
        "5. Dada una lista de diccionarios que representan productos con su nombre y precio, calcula la suma total de los precios de todos los productos ."
      ],
      "metadata": {
        "id": "q3hcDxDa_JOW"
      }
    },
    {
      "cell_type": "code",
      "source": [
        "productos = [\n",
        "    {\"nombre\": \"Producto A\", \"precio\": 510},\n",
        "    {\"nombre\": \"Producto B\", \"precio\": 1220},\n",
        "    {\"nombre\": \"Producto C\", \"precio\": 800},\n",
        "    {\"nombre\": \"Producto D\", \"precio\": 270}\n",
        "]\n",
        "\n",
        "suma_total_precios = sum(producto[\"precio\"] for producto in productos)\n",
        "\n",
        "print(f\"La suma total de los precios de todos los productos es: ${suma_total_precios}\")"
      ],
      "metadata": {
        "colab": {
          "base_uri": "https://localhost:8080/"
        },
        "id": "x0MyQvXe_Ixq",
        "outputId": "704b2d0e-2286-4f4e-80da-3d0bbce6609a"
      },
      "execution_count": 11,
      "outputs": [
        {
          "output_type": "stream",
          "name": "stdout",
          "text": [
            "La suma total de los precios de todos los productos es: $2800\n"
          ]
        }
      ]
    }
  ]
}