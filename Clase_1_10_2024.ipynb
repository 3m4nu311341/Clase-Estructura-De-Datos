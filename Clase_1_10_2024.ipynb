{
  "nbformat": 4,
  "nbformat_minor": 0,
  "metadata": {
    "colab": {
      "provenance": [],
      "authorship_tag": "ABX9TyNlzaQKAzteND1ifGC2g6/L",
      "include_colab_link": true
    },
    "kernelspec": {
      "name": "python3",
      "display_name": "Python 3"
    },
    "language_info": {
      "name": "python"
    }
  },
  "cells": [
    {
      "cell_type": "markdown",
      "metadata": {
        "id": "view-in-github",
        "colab_type": "text"
      },
      "source": [
        "<a href=\"https://colab.research.google.com/github/3m4nu311341/Clase-Estructura-De-Datos/blob/main/Clase_1_10_2024.ipynb\" target=\"_parent\"><img src=\"https://colab.research.google.com/assets/colab-badge.svg\" alt=\"Open In Colab\"/></a>"
      ]
    },
    {
      "cell_type": "code",
      "execution_count": null,
      "metadata": {
        "colab": {
          "base_uri": "https://localhost:8080/"
        },
        "id": "0Mu36hobyg7u",
        "outputId": "7c177cf2-243a-47c1-e29b-10f6b54408ec"
      },
      "outputs": [
        {
          "output_type": "stream",
          "name": "stdout",
          "text": [
            "¿Cuantas personas desea ingresar por nodo: 5\n",
            "ingresar nombre : 0luis\n",
            "ingrese apellido: 0leal\n",
            "ingresar nombre : 1julian\n",
            "ingrese apellido: 1salas\n",
            "ingresar nombre : 2david \n",
            "ingrese apellido: 2garcia\n",
            "ingresar nombre : 3miguel\n",
            "ingrese apellido: 3sanchez\n",
            "ingresar nombre : 4darley\n",
            "ingrese apellido: 4sanchez\n",
            "nombre:luis, ciudad: leal\n",
            "nombre:julian, ciudad: salas\n",
            "nombre:david , ciudad: garcia\n",
            "nombre:miguel, ciudad: sanchez\n",
            "nombre:darley, ciudad: sanchez\n",
            "None\n"
          ]
        }
      ],
      "source": [
        "from re import I\n",
        "\n",
        "class Nodo:\n",
        "    def __init__(self, nombre, ciudad):\n",
        "        self.nombre= nombre\n",
        "        self.ciudad= ciudad\n",
        "\n",
        "        self.siguiente = None\n",
        "\n",
        "class ListaSimple:\n",
        "    def __init__(self):\n",
        "        self.cabeza = None\n",
        "\n",
        "    def insertar(self, nombre,ciudad):\n",
        "        nuevo_nodo = Nodo(nombre,ciudad)\n",
        "        if not self.cabeza:\n",
        "            self.cabeza = nuevo_nodo\n",
        "        else:\n",
        "            actual = self.cabeza\n",
        "            while actual.siguiente:\n",
        "                actual = actual.siguiente\n",
        "            actual.siguiente = nuevo_nodo\n",
        "\n",
        "    def mostrar(self):\n",
        "        if not self.cabeza:\n",
        "            print(\"La lista está vacía.\")\n",
        "            return\n",
        "        actual = self.cabeza\n",
        "        while actual:\n",
        "            print(f\"nombre:{actual.nombre}, ciudad: {actual.ciudad}\")\n",
        "            actual = actual.siguiente\n",
        "        print(\"None\")\n",
        "\n",
        "\n",
        "persona = ListaSimple()\n",
        "\n",
        "\n",
        "datos_ingresar= int(input(\"¿Cuantas personas desea ingresar por nodo: \"))\n",
        "for i in range (datos_ingresar):\n",
        "  persona.insertar(input(f\"ingresar nombre : {i}\"), input(f\"ingrese apellido: {i}\"))\n",
        "\n",
        "\n",
        "persona.mostrar()"
      ]
    },
    {
      "cell_type": "markdown",
      "source": [
        "TAREA\n",
        "\n",
        "\n",
        "1)Crear lista de nodos de nombre apellido nrc id programa y asignaturas\n",
        "\n",
        "2)Crear una lista de nodos de ropa camisa zapatos pantalones\n",
        "\n",
        "3)crear una lista de datos del inventario del aula de clase escritorios\n",
        "computadores ratones teclados salon  tablero  *tv*\n",
        "\n",
        "4)Crear una lista de nodos de tik tok de: famoso, nombre famoso, cantidad_tiktoksubidos"
      ],
      "metadata": {
        "id": "2SjDoMBa7xwQ"
      }
    },
    {
      "cell_type": "markdown",
      "source": [
        "1)Crear lista de nodos de nombre apellido nrc id programa y asignaturas"
      ],
      "metadata": {
        "id": "h0NGQSP3xP3F"
      }
    },
    {
      "cell_type": "code",
      "source": [
        "from re import I\n",
        "\n",
        "class Nodo:\n",
        "    def __init__(self, nombre, apellido, nrc, id, programa, asignatura):\n",
        "        self.nombre= nombre\n",
        "        self.apellido= apellido\n",
        "        self.nrc= nrc\n",
        "        self.id= id\n",
        "        self.programa= programa\n",
        "        self.asignaturas= asignatura\n",
        "        self.siguiente = None\n",
        "\n",
        "class ListaSimple:\n",
        "    def __init__(self):\n",
        "        self.cabeza = None\n",
        "\n",
        "    def insertar(self, nombre,apellido, nrc, id, programa, asignatura):\n",
        "        nuevo_nodo = Nodo(nombre,apellido, nrc, id, programa, asignatura)\n",
        "        if not self.cabeza:\n",
        "            self.cabeza = nuevo_nodo\n",
        "        else:\n",
        "            actual = self.cabeza\n",
        "            while actual.siguiente:\n",
        "                actual = actual.siguiente\n",
        "            actual.siguiente = nuevo_nodo\n",
        "\n",
        "    def mostrar(self):\n",
        "        if not self.cabeza:\n",
        "            print(\"La lista está vacía.\")\n",
        "            return\n",
        "        actual = self.cabeza\n",
        "        while actual:\n",
        "            print(f\"nombre:{actual.nombre}, apellido: {actual.apellido}, nrc:{actual.nrc}, id:{actual.id}, programa:{actual.asignatura}, \")\n",
        "            actual = actual.siguiente\n",
        "        print(\"None\")\n",
        "\n",
        "\n",
        "persona = ListaSimple()\n",
        "\n",
        "\n",
        "datos_ingresar= int(input(\"¿Cuantas personas desea ingresar por nodo: \"))\n",
        "for i in range (datos_ingresar):\n",
        "  persona.insertar(input(f\"ingresar nombre : {i}\"), input(f\"ingrese apellido: {i}\"), input(f\"ingrese nrc: {i}\"), input(f\"ingrese id: {i}\"), input(f\"ingrese programas: {i}\"), input(f\"ingrese asignatura: {i}\"))\n",
        "\n",
        "\n",
        "persona.mostrar()"
      ],
      "metadata": {
        "colab": {
          "base_uri": "https://localhost:8080/"
        },
        "id": "PFEwfUd2uM5k",
        "outputId": "60c94d83-50e4-413f-8763-7f3e55f2ccd3"
      },
      "execution_count": null,
      "outputs": [
        {
          "output_type": "stream",
          "name": "stdout",
          "text": [
            "¿Cuantas personas desea ingresar por nodo: 1\n",
            "ingresar nombre : 0David\n",
            "ingrese apellido: 0Garcia\n",
            "ingrese nrc: 0698547\n",
            "ingrese id: 0891583\n",
            "ingrese programas: 0Ing Sistemas\n",
            "ingrese asignaturas: 0Estructura de Datos\n",
            "nombre:David, apellido: Garcia, nrc:698547, id:891583, programa:Estructura de Datos, \n",
            "None\n"
          ]
        }
      ]
    },
    {
      "cell_type": "markdown",
      "source": [
        "2)Crear una lista de nodos de ropa: camisa, zapatos, pantalones"
      ],
      "metadata": {
        "id": "6Xlc3SqsxOk3"
      }
    },
    {
      "cell_type": "code",
      "source": [
        "class Nodo:\n",
        "    def __init__(self, camisa, zapatos, pantalones):\n",
        "        self.camisa = camisa\n",
        "        self.zapatos = zapatos\n",
        "        self.pantalones = pantalones\n",
        "        self.siguiente = None\n",
        "\n",
        "class ListaSimple:\n",
        "    def __init__(self):\n",
        "        self.cabeza = None\n",
        "\n",
        "    def insertar(self, camisa, zapatos, pantalones):\n",
        "        nuevo_nodo = Nodo(camisa, zapatos, pantalones)\n",
        "        if not self.cabeza:\n",
        "            self.cabeza = nuevo_nodo\n",
        "        else:\n",
        "            actual = self.cabeza\n",
        "            while actual.siguiente:\n",
        "                actual = actual.siguiente\n",
        "            actual.siguiente = nuevo_nodo\n",
        "\n",
        "    def mostrar(self):\n",
        "        if not self.cabeza:\n",
        "            print(\"Eso es todo\")\n",
        "            return\n",
        "        actual = self.cabeza\n",
        "        while actual:\n",
        "            print(f\"Camisa: {actual.camisa}, Zapatos: {actual.zapatos}, Pantalones: {actual.pantalones}\")\n",
        "            actual = actual.siguiente\n",
        "\n",
        "ropa = ListaSimple()\n",
        "\n",
        "while True:\n",
        "    camisa = input(\"Ingresar camisa: \")\n",
        "    zapatos = input(\"Ingresar zapatos: \")\n",
        "    pantalones = input(\"Ingresar pantalones: \")\n",
        "    persona.insertar(camisa, zapatos, pantalones)\n",
        "\n",
        "    continuar = input(\"¿Desea ingresar más ropa? (si/no): \")\n",
        "    if continuar.lower() != 'si':\n",
        "        break\n",
        "\n",
        "ropa.mostrar()\n",
        "print(\"que chimba de aufit\")\n"
      ],
      "metadata": {
        "colab": {
          "base_uri": "https://localhost:8080/"
        },
        "id": "jJiAEkpY0l82",
        "outputId": "510d9ae1-898a-4332-e303-57227e47cb3b"
      },
      "execution_count": null,
      "outputs": [
        {
          "output_type": "stream",
          "name": "stdout",
          "text": [
            "Ingresar camisa: a\n",
            "Ingresar zapatos: a\n",
            "Ingresar pantalones: a\n",
            "¿Desea ingresar más ropa? (si/no): no\n",
            "Eso es todo\n",
            "que chimba de aufit\n"
          ]
        }
      ]
    },
    {
      "cell_type": "markdown",
      "source": [
        "\n",
        "\n",
        "3)Crear una lista de datos del inventario del aula de clase escritorios\n",
        "computadores ratones teclados salon  tablero  *tv*"
      ],
      "metadata": {
        "id": "AWxk3o7Q1-et"
      }
    },
    {
      "cell_type": "code",
      "source": [
        "class Nodo:\n",
        "  def __init__(self, nombre, cantidad, descripcion):\n",
        "    self.nombre = nombre\n",
        "    self.cantidad = cantidad\n",
        "    self.descripcion = descripcion\n",
        "    self.siguiente = None\n",
        "\n",
        "class ListaSimple:\n",
        "  def __init__(self):\n",
        "    self.cabeza = None\n",
        "\n",
        "  def insertar(self, nombre, cantidad, descripcion):\n",
        "    nuevo_nodo = Nodo(nombre, cantidad, descripcion)\n",
        "    if self.cabeza is None:\n",
        "      self.cabeza = nuevo_nodo\n",
        "    else:\n",
        "      actual = self.cabeza\n",
        "      while actual.siguiente is not None:\n",
        "        actual = actual.siguiente\n",
        "      actual.siguiente = nuevo_nodo\n",
        "\n",
        "  def mostrar(self):\n",
        "    if not self.cabeza:\n",
        "      print(\"El inventario está vacío.\")\n",
        "      return\n",
        "    actual = self.cabeza\n",
        "    while actual:\n",
        "      print(f\"Nombre: {actual.nombre}, Cantidad: {actual.cantidad}, Descripción: {actual.descripcion}\")\n",
        "      actual = actual.siguiente\n",
        "      print(\"Fin del inventario.\")\n",
        "\n",
        "  def buscar_dato(self, nombre):\n",
        "    actual = self.cabeza\n",
        "    while actual:\n",
        "      if actual.nombre == nombre:\n",
        "        print(f\"Nombre: {actual.nombre}, Cantidad: {actual.cantidad}, Descripción: {actual.descripcion}\")\n",
        "        return actual\n",
        "      actual = actual.siguiente\n",
        "    print(\"No se encontró el elemento en el inventario.\")\n",
        "    return None\n",
        "\n",
        "  def almacenar_datos(self):\n",
        "    datos = int(input(\"Ingrese la cantidad de elementos que desea ingresar al inventario: \"))\n",
        "    for i in range(datos):\n",
        "      self.insertar(nombre=input(\"Ingrese el nombre del elemento: \"),\n",
        "                    cantidad=int(input(\"Ingrese la cantidad: \")),\n",
        "                    descripcion=input(\"Ingrese una descripción: \"))\n",
        "      self.mostrar()\n",
        "      print(\"Elemento ingresado al inventario correctamente.\")\n",
        "\n",
        "inventarioAula = ListaSimple()\n",
        "inventarioAula.almacenar_datos()\n",
        "inventarioAula.mostrar()\n",
        "inventarioAula.buscar_dato(input(\"Ingrese el nombre del elemento que desea encontrar: \"))\n"
      ],
      "metadata": {
        "id": "wR6j_VQw3oE-",
        "colab": {
          "base_uri": "https://localhost:8080/"
        },
        "outputId": "3c5728d0-1287-4ce3-ae6b-2a4c531a674b"
      },
      "execution_count": 1,
      "outputs": [
        {
          "output_type": "stream",
          "name": "stdout",
          "text": [
            "Ingrese la cantidad de elementos que desea ingresar al inventario: 3\n",
            "Ingrese el nombre del elemento: Televisor\n",
            "Ingrese la cantidad: 1\n",
            "Ingrese una descripción: Sony funcional con control\n",
            "Nombre: Televisor, Cantidad: 1, Descripción: Sony funcional con control\n",
            "Fin del inventario.\n",
            "Elemento ingresado al inventario correctamente.\n",
            "Ingrese el nombre del elemento: Sillas\n",
            "Ingrese la cantidad: 20\n",
            "Ingrese una descripción: Azules en buen estado\n",
            "Nombre: Televisor, Cantidad: 1, Descripción: Sony funcional con control\n",
            "Fin del inventario.\n",
            "Nombre: Sillas, Cantidad: 20, Descripción: Azules en buen estado\n",
            "Fin del inventario.\n",
            "Elemento ingresado al inventario correctamente.\n",
            "Ingrese el nombre del elemento: computadores \n",
            "Ingrese la cantidad: 15\n",
            "Ingrese una descripción: hp todos funcionales \n",
            "Nombre: Televisor, Cantidad: 1, Descripción: Sony funcional con control\n",
            "Fin del inventario.\n",
            "Nombre: Sillas, Cantidad: 20, Descripción: Azules en buen estado\n",
            "Fin del inventario.\n",
            "Nombre: computadores , Cantidad: 15, Descripción: hp todos funcionales \n",
            "Fin del inventario.\n",
            "Elemento ingresado al inventario correctamente.\n",
            "Nombre: Televisor, Cantidad: 1, Descripción: Sony funcional con control\n",
            "Fin del inventario.\n",
            "Nombre: Sillas, Cantidad: 20, Descripción: Azules en buen estado\n",
            "Fin del inventario.\n",
            "Nombre: computadores , Cantidad: 15, Descripción: hp todos funcionales \n",
            "Fin del inventario.\n",
            "Ingrese el nombre del elemento que desea encontrar: Televisor\n",
            "Nombre: Televisor, Cantidad: 1, Descripción: Sony funcional con control\n"
          ]
        },
        {
          "output_type": "execute_result",
          "data": {
            "text/plain": [
              "<__main__.Nodo at 0x7c998c0bac20>"
            ]
          },
          "metadata": {},
          "execution_count": 1
        }
      ]
    },
    {
      "cell_type": "markdown",
      "source": [
        "4)Crear una lista de nodos de tik tok de: famoso, nombre famoso, cantidad_tiktoksubidos"
      ],
      "metadata": {
        "id": "W_ePUeun5NYn"
      }
    },
    {
      "cell_type": "code",
      "source": [
        "class Nodo:\n",
        "  def __init__(self, nombre, cantidad_tiktok_subidos):\n",
        "    self.nombre = nombre\n",
        "    self.cantidad_tiktok_subidos = cantidad_tiktok_subidos\n",
        "    self.siguiente = None\n",
        "\n",
        "class ListaSimple:\n",
        "  def __init__(self):\n",
        "    self.cabeza = None\n",
        "\n",
        "  def insertar(self, nombre, cantidad_tiktok_subidos):\n",
        "    nuevo_nodo = Nodo(nombre, cantidad_tiktok_subidos)\n",
        "    if self.cabeza is None:\n",
        "      self.cabeza = nuevo_nodo\n",
        "    else:\n",
        "      actual = self.cabeza\n",
        "      while actual.siguiente is not None:\n",
        "        actual = actual.siguiente\n",
        "      actual.siguiente = nuevo_nodo\n",
        "\n",
        "  def mostrar(self):\n",
        "    if not self.cabeza:\n",
        "      print(\"La lista de famosos de TikTok está vacía.\")\n",
        "      return\n",
        "    actual = self.cabeza\n",
        "    while actual:\n",
        "      print(f\"Nombre: {actual.nombre}, Cantidad de TikToks subidos: {actual.cantidad_tiktok_subidos}\")\n",
        "      actual = actual.siguiente\n",
        "      print(\"Fin de la lista.\")\n",
        "\n",
        "  def buscar_dato(self, nombre):\n",
        "    actual = self.cabeza\n",
        "    while actual:\n",
        "      if actual.nombre == nombre:\n",
        "        print(f\"Nombre: {actual.nombre}, Cantidad de TikToks subidos: {actual.cantidad_tiktok_subidos}\")\n",
        "        return actual\n",
        "      actual = actual.siguiente\n",
        "    print(\"No se encontró el famoso en la lista.\")\n",
        "    return None\n",
        "\n",
        "  def almacenar_datos(self):\n",
        "    datos = int(input(\"Ingrese la cantidad de famosos que desea agregar a la lista: \"))\n",
        "    for i in range(datos):\n",
        "      self.insertar(nombre=input(\"Ingrese el nombre del famoso: \"),\n",
        "                    cantidad_tiktok_subidos=int(input(\"Ingrese la cantidad de TikToks subidos: \")))\n",
        "      self.mostrar()\n",
        "      print(\"Famoso ingresado a la lista correctamente.\")\n",
        "\n",
        "listaTikTok = ListaSimple()\n",
        "listaTikTok.almacenar_datos()\n",
        "listaTikTok.mostrar()\n",
        "listaTikTok.buscar_dato(input(\"Ingrese el nombre del famoso que desea encontrar: \"))\n"
      ],
      "metadata": {
        "colab": {
          "base_uri": "https://localhost:8080/"
        },
        "id": "Z-9bdWN9B3bf",
        "outputId": "9dda9326-a879-46df-fdc1-c9e2b76678a4"
      },
      "execution_count": 2,
      "outputs": [
        {
          "output_type": "stream",
          "name": "stdout",
          "text": [
            "Ingrese la cantidad de famosos que desea agregar a la lista: 1\n",
            "Ingrese el nombre del famoso: Borrego\n",
            "Ingrese la cantidad de TikToks subidos: 150\n",
            "Nombre: Borrego, Cantidad de TikToks subidos: 150\n",
            "Fin de la lista.\n",
            "Famoso ingresado a la lista correctamente.\n",
            "Nombre: Borrego, Cantidad de TikToks subidos: 150\n",
            "Fin de la lista.\n",
            "Ingrese el nombre del famoso que desea encontrar: Borrego\n",
            "Nombre: Borrego, Cantidad de TikToks subidos: 150\n"
          ]
        },
        {
          "output_type": "execute_result",
          "data": {
            "text/plain": [
              "<__main__.Nodo at 0x7c998c0bb040>"
            ]
          },
          "metadata": {},
          "execution_count": 2
        }
      ]
    }
  ]
}