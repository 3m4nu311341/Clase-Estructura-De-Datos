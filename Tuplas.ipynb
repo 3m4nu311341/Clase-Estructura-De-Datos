{
  "nbformat": 4,
  "nbformat_minor": 0,
  "metadata": {
    "colab": {
      "provenance": [],
      "authorship_tag": "ABX9TyMKrTq0/dPld/W8mw7wLU1R",
      "include_colab_link": true
    },
    "kernelspec": {
      "name": "python3",
      "display_name": "Python 3"
    },
    "language_info": {
      "name": "python"
    }
  },
  "cells": [
    {
      "cell_type": "markdown",
      "metadata": {
        "id": "view-in-github",
        "colab_type": "text"
      },
      "source": [
        "<a href=\"https://colab.research.google.com/github/3m4nu311341/Clase-Estructura-De-Datos/blob/main/Tuplas.ipynb\" target=\"_parent\"><img src=\"https://colab.research.google.com/assets/colab-badge.svg\" alt=\"Open In Colab\"/></a>"
      ]
    },
    {
      "cell_type": "markdown",
      "source": [
        "Tuplas\n",
        "1. Crea una tupla con los siguientes elementos: \"apple\", \"banana\", \"cherry\", \"date\", \"fig\", \"grape\". Imprime la tupla y el número de elementos que contiene."
      ],
      "metadata": {
        "id": "z5E4jxf6sRCO"
      }
    },
    {
      "cell_type": "code",
      "execution_count": 1,
      "metadata": {
        "colab": {
          "base_uri": "https://localhost:8080/"
        },
        "id": "URJSHrx_sJPK",
        "outputId": "8bc2fa91-825d-4533-b0a1-7c380addc4c9"
      },
      "outputs": [
        {
          "output_type": "stream",
          "name": "stdout",
          "text": [
            "tupla ('apple', 'banana', 'cherry', 'date', 'fig', 'grape')\n"
          ]
        }
      ],
      "source": [
        "frutas=(\"apple\",\"banana\",\"cherry\",\"date\",\"fig\",\"grape\")\n",
        "print(\"tupla\",frutas)"
      ]
    },
    {
      "cell_type": "code",
      "source": [
        "print(\"Número de Elementos\",len(frutas))"
      ],
      "metadata": {
        "colab": {
          "base_uri": "https://localhost:8080/"
        },
        "id": "dRPbVL1tsghn",
        "outputId": "f94e3545-5742-45a9-cd4c-6c1fb6dabafd"
      },
      "execution_count": 2,
      "outputs": [
        {
          "output_type": "stream",
          "name": "stdout",
          "text": [
            "Número de Elementos 6\n"
          ]
        }
      ]
    },
    {
      "cell_type": "markdown",
      "source": [
        "2. Dada la tupla fruits = (\"apple\", \"banana\", \"cherry\", \"date\", \"fig\", \"grape\"), accede e imprime el tercer elemento de la tupla."
      ],
      "metadata": {
        "id": "BoD19zdJsoyV"
      }
    },
    {
      "cell_type": "code",
      "source": [
        "tercer_elemento = frutas[2]\n",
        "print(\"tercer elemento de la tupla\", tercer_elemento)"
      ],
      "metadata": {
        "colab": {
          "base_uri": "https://localhost:8080/"
        },
        "id": "9C7OQOshsqJt",
        "outputId": "a21420fd-b158-446d-97a4-1d388e7251ad"
      },
      "execution_count": 3,
      "outputs": [
        {
          "output_type": "stream",
          "name": "stdout",
          "text": [
            "tercer elemento de la tupla cherry\n"
          ]
        }
      ]
    },
    {
      "cell_type": "markdown",
      "source": [
        "3. Dada la tupla colors = (\"red\", \"green\", \"blue\"), desempaqueta sus valores en tres variables y luego imprime cada variable."
      ],
      "metadata": {
        "id": "BzgsUN25sxw9"
      }
    },
    {
      "cell_type": "code",
      "source": [
        "colors=(\"red\",\"green\",\"blue\")"
      ],
      "metadata": {
        "id": "USqlkL_VsyWO"
      },
      "execution_count": 4,
      "outputs": []
    },
    {
      "cell_type": "code",
      "source": [
        "color1, color2, color3=colors\n",
        "print(\"Color 1:\", color1)\n",
        "print(\"Color 2:\", color2)\n",
        "print(\"Color 3:\", color3)"
      ],
      "metadata": {
        "colab": {
          "base_uri": "https://localhost:8080/"
        },
        "id": "_vgr3mSfs0tF",
        "outputId": "d14894e3-a991-4081-b8b0-6b4d88ee9dec"
      },
      "execution_count": 5,
      "outputs": [
        {
          "output_type": "stream",
          "name": "stdout",
          "text": [
            "Color 1: red\n",
            "Color 2: green\n",
            "Color 3: blue\n"
          ]
        }
      ]
    },
    {
      "cell_type": "markdown",
      "source": [
        "4. Crea dos tuplas, una con los números (1, 2, 3) y otra con los números (4, 5, 6). Concatenálas en una sola tupla y muestra el resultado"
      ],
      "metadata": {
        "id": "PwMhBpVKs9AR"
      }
    },
    {
      "cell_type": "code",
      "source": [
        "numeros1=(1,2,3)\n",
        "numeros2=(4,5,6)\n",
        "print(\"Tupla Concatenada\", numeros1+numeros2)"
      ],
      "metadata": {
        "colab": {
          "base_uri": "https://localhost:8080/"
        },
        "id": "n3fkf26Ms_yM",
        "outputId": "f673c659-6c69-4a5d-81be-3c8ea7046923"
      },
      "execution_count": 6,
      "outputs": [
        {
          "output_type": "stream",
          "name": "stdout",
          "text": [
            "Tupla Concatenada (1, 2, 3, 4, 5, 6)\n"
          ]
        }
      ]
    },
    {
      "cell_type": "markdown",
      "source": [
        "5. Crea una tupla con el elemento \"repeat\" y repítela 4 veces. Imprime el resultado."
      ],
      "metadata": {
        "id": "T3l9rBQOtGpB"
      }
    },
    {
      "cell_type": "code",
      "source": [
        "tupla=(\"repeat\",)\n",
        "tupla_repetida = tupla*4\n",
        "print(\"Tupla Repetida:\", tupla_repetida)"
      ],
      "metadata": {
        "colab": {
          "base_uri": "https://localhost:8080/"
        },
        "id": "6zRpw1CEtLCd",
        "outputId": "e392066d-852e-41aa-94b1-3dddb70e4dc3"
      },
      "execution_count": 7,
      "outputs": [
        {
          "output_type": "stream",
          "name": "stdout",
          "text": [
            "Tupla Repetida: ('repeat', 'repeat', 'repeat', 'repeat')\n"
          ]
        }
      ]
    },
    {
      "cell_type": "markdown",
      "source": [
        "6. Dada la tupla numbers = (10, 20, 30, 40, 50), utiliza un bucle for para iterar sobre la tupla e imprimir cada número."
      ],
      "metadata": {
        "id": "FGg8xki7tUWW"
      }
    },
    {
      "cell_type": "code",
      "source": [
        "numbers=(10,20,30,40,50)"
      ],
      "metadata": {
        "id": "RRLAVPaitTLk"
      },
      "execution_count": 8,
      "outputs": []
    },
    {
      "cell_type": "code",
      "source": [
        "for number in numbers:\n",
        "    print(number)"
      ],
      "metadata": {
        "colab": {
          "base_uri": "https://localhost:8080/"
        },
        "id": "HG_YiieBu-uW",
        "outputId": "8a81f4bb-23ac-4846-b463-ae1c9f65665e"
      },
      "execution_count": 9,
      "outputs": [
        {
          "output_type": "stream",
          "name": "stdout",
          "text": [
            "10\n",
            "20\n",
            "30\n",
            "40\n",
            "50\n"
          ]
        }
      ]
    },
    {
      "cell_type": "markdown",
      "source": [
        "7. Crea una tupla que contenga otras dos tuplas: tuple1 = (1, 2, 3) y tuple2 = (\"a\", \"b\", \"c\"). Imprime la tupla anidada."
      ],
      "metadata": {
        "id": "aTFsuxG0vdwl"
      }
    },
    {
      "cell_type": "code",
      "source": [
        "tuple1 = (1, 2, 3)\n",
        "tuple2 = (\"a\", \"b\", \"c\")"
      ],
      "metadata": {
        "id": "q3GcobBWveE1"
      },
      "execution_count": 10,
      "outputs": []
    },
    {
      "cell_type": "code",
      "source": [
        "tupla_anidada = (tuple1, tuple2)\n",
        "print(\"Tupla anidada:\", tupla_anidada)"
      ],
      "metadata": {
        "colab": {
          "base_uri": "https://localhost:8080/"
        },
        "id": "XTrIE0D_vkvu",
        "outputId": "4fa1c4a7-1f9a-4925-ad41-d80f23e319f3"
      },
      "execution_count": 11,
      "outputs": [
        {
          "output_type": "stream",
          "name": "stdout",
          "text": [
            "Tupla anidada: ((1, 2, 3), ('a', 'b', 'c'))\n"
          ]
        }
      ]
    },
    {
      "cell_type": "markdown",
      "source": [
        "8. Dada la tupla letters = (\"a\", \"b\", \"c\", \"d\"), verifica si la letra \"e\" está en la tupla e imprime un mensaje apropiado."
      ],
      "metadata": {
        "id": "mTh8wXiPvqFc"
      }
    },
    {
      "cell_type": "code",
      "source": [
        "letters = (\"a\", \"b\", \"c\", \"d\")"
      ],
      "metadata": {
        "id": "9A5XplN5vpxN"
      },
      "execution_count": 13,
      "outputs": []
    },
    {
      "cell_type": "code",
      "source": [
        "if \"e\" in letters:\n",
        "    print(\"La letra 'e' está en la tupla.\")\n",
        "else:\n",
        "    print(\"La letra 'e' no está en la tupla.\")"
      ],
      "metadata": {
        "colab": {
          "base_uri": "https://localhost:8080/"
        },
        "id": "nji_v-znvzvq",
        "outputId": "4b40137a-29de-4850-ce5e-716158680294"
      },
      "execution_count": 14,
      "outputs": [
        {
          "output_type": "stream",
          "name": "stdout",
          "text": [
            "La letra 'e' no está en la tupla.\n"
          ]
        }
      ]
    },
    {
      "cell_type": "markdown",
      "source": [
        "9. Convierte la lista my_list = [100, 200, 300, 400] a una tupla e imprime la tupla resultante."
      ],
      "metadata": {
        "id": "tX9Xmh7Rv6DO"
      }
    },
    {
      "cell_type": "code",
      "source": [
        "my_list = [100, 200, 300, 400]"
      ],
      "metadata": {
        "id": "XOyv7VkUv6iD"
      },
      "execution_count": 15,
      "outputs": []
    },
    {
      "cell_type": "code",
      "source": [
        "my_tuple = tuple(my_list)"
      ],
      "metadata": {
        "id": "wc-HYiQNwDiU"
      },
      "execution_count": 16,
      "outputs": []
    },
    {
      "cell_type": "code",
      "source": [
        "print(\"Tupla resultante:\", my_tuple)"
      ],
      "metadata": {
        "colab": {
          "base_uri": "https://localhost:8080/"
        },
        "id": "SYidfS6DwHEd",
        "outputId": "d4ab66c4-563f-4640-d511-e558f785f0a9"
      },
      "execution_count": 17,
      "outputs": [
        {
          "output_type": "stream",
          "name": "stdout",
          "text": [
            "Tupla resultante: (100, 200, 300, 400)\n"
          ]
        }
      ]
    },
    {
      "cell_type": "markdown",
      "source": [
        "10. Dada la tupla my_tuple = (5, 10, 15, 20, 25, 30, 35), imprime el valor en el índice 2 y una sub-tupla que contenga los elementos desde el índice 1 hasta el 4."
      ],
      "metadata": {
        "id": "XUBCQPeWwK28"
      }
    },
    {
      "cell_type": "code",
      "source": [
        "my_tuple = (5, 10, 15, 20, 25, 30, 35)"
      ],
      "metadata": {
        "id": "EZMm7EBlwNDM"
      },
      "execution_count": 18,
      "outputs": []
    },
    {
      "cell_type": "code",
      "source": [
        "print(\"Valor en el índice 2:\", my_tuple[1])"
      ],
      "metadata": {
        "colab": {
          "base_uri": "https://localhost:8080/"
        },
        "id": "rHJkj1c5wZxc",
        "outputId": "19584f4d-d6bd-4ada-84ee-894caa1081e8"
      },
      "execution_count": 22,
      "outputs": [
        {
          "output_type": "stream",
          "name": "stdout",
          "text": [
            "Valor en el índice 2: 10\n"
          ]
        }
      ]
    },
    {
      "cell_type": "code",
      "source": [
        "sub_tuple = my_tuple[0:4]\n",
        "print(\"Sub-tupla desde el índice 1 hasta el 4:\", sub_tuple)"
      ],
      "metadata": {
        "colab": {
          "base_uri": "https://localhost:8080/"
        },
        "id": "CKUvP0xpwe3N",
        "outputId": "89886a77-9b27-4538-a0f2-ded0608befc7"
      },
      "execution_count": 21,
      "outputs": [
        {
          "output_type": "stream",
          "name": "stdout",
          "text": [
            "Sub-tupla desde el índice 1 hasta el 4: (5, 10, 15, 20)\n"
          ]
        }
      ]
    }
  ]
}